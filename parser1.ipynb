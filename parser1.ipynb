{
 "cells": [
  {
   "cell_type": "code",
   "execution_count": 24,
   "metadata": {},
   "outputs": [],
   "source": [
    "import requests\n",
    "from bs4 import BeautifulSoup as bs\n",
    "from selenium.webdriver import Chrome\n",
    "from selenium.webdriver.chrome.options import Options\n",
    "from webdriver_manager.chrome import ChromeDriverManager\n",
    "import time\n",
    "import string\n",
    "import re\n",
    "import pandas as pd \n",
    "from selenium.common.exceptions import TimeoutException\n",
    "from selenium.webdriver.support.ui import WebDriverWait\n",
    "from selenium.webdriver.support import expected_conditions as EC\n",
    "from selenium.webdriver.common.by import By"
   ]
  },
  {
   "cell_type": "code",
   "execution_count": 25,
   "metadata": {},
   "outputs": [],
   "source": [
    "def parse_pages_cotopaxi(pages):\n",
    "    names = []\n",
    "    stars = []\n",
    "    short_reviews = []\n",
    "    full_reviews = []\n",
    "    collapsed_reviews = []\n",
    "    \n",
    "    for page in pages:\n",
    "        divs = page.find_all(\"div\", class_=\"yotpo-review\")\n",
    "        divs += page.find_all(\"div\", class_=\"yotpo-review yotpo-regular-box yotpo-regular-box-filters-padding\")\n",
    "        \n",
    "        for div in divs:\n",
    "            names.append(div.find(\"span\", attrs={\"class\":\"y-label yotpo-user-name yotpo-font-bold pull-left\"}))\n",
    "            stars.append(len(div.find_all(\"span\", attrs={\"class\":\"yotpo-icon yotpo-icon-star rating-star pull-left\"})))\n",
    "            short_reviews.append(div.find(\"div\", attrs={\"class\":\"content-title yotpo-font-bold\"}))\n",
    "            full_reviews.append(div.find(\"div\", attrs={\"class\":\"content-review\"}))\n",
    "            collapsed_reviews.append(div.find(\"p\", attrs={\"class\":\"rest-content-collapsed\"}))\n",
    "    return (names, stars, short_reviews, full_reviews, collapsed_reviews)\n",
    "\n",
    "def parse_pages_patagonia(pages):\n",
    "    names = []\n",
    "    stars = []\n",
    "    short_reviews = []\n",
    "    full_reviews = []\n",
    "    collapsed_reviews = []\n",
    "    \n",
    "    for page in pages:\n",
    "        divs = page.find_all(\"div\", class_=\"yotpo-review\")\n",
    "        divs += page.find_all(\"div\", class_=\"yotpo-review yotpo-regular-box yotpo-regular-box-filters-padding\")\n",
    "        \n",
    "        for div in divs:\n",
    "            names.append(div.find(\"span\", attrs={\"class\":\"y-label yotpo-user-name yotpo-font-bold pull-left\"}))\n",
    "            stars.append(len(div.find_all(\"span\", attrs={\"class\":\"yotpo-icon yotpo-icon-star rating-star pull-left\"})))\n",
    "            short_reviews.append(div.find(\"div\", attrs={\"class\":\"content-title yotpo-font-bold\"}))\n",
    "            full_reviews.append(div.find(\"div\", attrs={\"class\":\"content-review\"}))\n",
    "            collapsed_reviews.append(div.find(\"p\", attrs={\"class\":\"rest-content-collapsed\"}))\n",
    "    return (names, stars, short_reviews, full_reviews, collapsed_reviews)\n",
    "\n",
    "def parse_pages_loveyourmelon(pages):\n",
    "    names = []\n",
    "    stars = []\n",
    "    short_reviews = []\n",
    "    full_reviews = []\n",
    "    collapsed_reviews = []\n",
    "    \n",
    "    for page in pages:\n",
    "        divs = page.find_all(\"div\", class_=\"yotpo-review yotpo-regular-box\")\n",
    "        divs += page.find_all(\"div\", class_=\"yotpo-review yotpo-regular-box yotpo-regular-box-filters-padding\")\n",
    "        \n",
    "        for div in divs:\n",
    "            names.append(div.find(\"label\", attrs={\"class\":\"y-label yotpo-user-name yotpo-font-bold pull-left\"}))\n",
    "            stars.append(len(div.find_all(\"span\", attrs={\"class\":\"yotpo-icon yotpo-icon-star rating-star pull-left\"})))\n",
    "            short_reviews.append(div.find(\"div\", attrs={\"class\":\"content-title yotpo-font-bold\"}))\n",
    "            full_reviews.append(div.find(\"div\", attrs={\"class\":\"content-review\"}))\n",
    "            collapsed_reviews.append(div.find(\"p\", attrs={\"class\":\"rest-content-collapsed\"}))\n",
    "    return (names, stars, short_reviews, full_reviews, collapsed_reviews)\n",
    "\n",
    "def parse_pages_wandererbracelets(pages):\n",
    "    names = []\n",
    "    stars = []\n",
    "    short_reviews = []\n",
    "    full_reviews = []\n",
    "    collapsed_reviews = []\n",
    "    \n",
    "    for page in pages:\n",
    "        divs = page.find_all(\"div\", class_=\"okeReviews-reviews-review\")\n",
    "        \n",
    "        for div in divs:\n",
    "            names.append(div.find(\"span\", attrs={\"class\":\"okeReviews-review-reviewer-profile-name\"}))\n",
    "            stars.append(div.find_all(\"span\", attrs={\"class\":\"okeReviews-starRating-indicator-layer okeReviews-starRating-indicator-layer--foreground\"}))\n",
    "            stars[-1] = int(re.sub(r'[^0-9.]+', r'', str(stars[-1]))) // 20\n",
    "            short_reviews.append(div.find(\"h2\", attrs={\"class\":\"okeReviews-review-main-heading\"}))\n",
    "            full_reviews.append(div.find(\"div\", attrs={\"class\":\"js-okeReviews-reviewContent okeReviews-review-main-content-body\"}))\n",
    "            collapsed_reviews.append(div.find(\"p\", attrs={\"class\":\"rest-content-collapsed\"}))\n",
    "    return (names, stars, short_reviews, full_reviews, collapsed_reviews)"
   ]
  },
  {
   "cell_type": "markdown",
   "metadata": {},
   "source": [
    "# PARAMETERS"
   ]
  },
  {
   "cell_type": "code",
   "execution_count": null,
   "metadata": {},
   "outputs": [],
   "source": [
    "# Начальная страница комментов (название сайта используется для выбора парсера)\n",
    "start_url = 'https://loveyourmelon.com/collections/scarves/products/smoke-speckled-infinity-scarf-black-leather-patch'\n",
    "# на сколько страниц нужно перелестнуть комментарии\n",
    "number_pages = int(684 / 5)\n",
    "# какой селектор отвечает за переход на следующую страницу комментариев\n",
    "arrow_selector = '.yotpo-icon-right-arrow'\n",
    "close_selector = '.privy-dismiss-content'\n",
    "#arrow_selector = '.okeReviews-reviews-showMore'\n",
    "#close_selector = '.design-layer-editable'"
   ]
  },
  {
   "cell_type": "code",
   "execution_count": 43,
   "metadata": {},
   "outputs": [
    {
     "name": "stderr",
     "output_type": "stream",
     "text": [
      "Exception ignored in: "
     ]
    },
    {
     "ename": "WebDriverException",
     "evalue": "Message: chrome not reachable\n  (Session info: chrome=79.0.3945.130)\n",
     "output_type": "error",
     "traceback": [
      "\u001b[1;31m---------------------------------------------------------------------------\u001b[0m",
      "\u001b[1;31mWebDriverException\u001b[0m                        Traceback (most recent call last)",
      "\u001b[1;32m<ipython-input-43-aa3fd1eeff98>\u001b[0m in \u001b[0;36m<module>\u001b[1;34m\u001b[0m\n\u001b[0;32m     17\u001b[0m         \u001b[1;32mexcept\u001b[0m\u001b[1;33m:\u001b[0m\u001b[1;33m\u001b[0m\u001b[1;33m\u001b[0m\u001b[0m\n\u001b[0;32m     18\u001b[0m             \u001b[1;32mpass\u001b[0m\u001b[1;33m\u001b[0m\u001b[1;33m\u001b[0m\u001b[0m\n\u001b[1;32m---> 19\u001b[1;33m         \u001b[0mdriver\u001b[0m\u001b[1;33m.\u001b[0m\u001b[0mfind_element_by_css_selector\u001b[0m\u001b[1;33m(\u001b[0m\u001b[0marrow_selector\u001b[0m\u001b[1;33m)\u001b[0m\u001b[1;33m.\u001b[0m\u001b[0mclick\u001b[0m\u001b[1;33m(\u001b[0m\u001b[1;33m)\u001b[0m\u001b[1;33m\u001b[0m\u001b[1;33m\u001b[0m\u001b[0m\n\u001b[0m\u001b[0;32m     20\u001b[0m         \u001b[0mtime\u001b[0m\u001b[1;33m.\u001b[0m\u001b[0msleep\u001b[0m\u001b[1;33m(\u001b[0m\u001b[1;36m2\u001b[0m\u001b[1;33m)\u001b[0m\u001b[1;33m\u001b[0m\u001b[1;33m\u001b[0m\u001b[0m\n\u001b[0;32m     21\u001b[0m         \u001b[0mrequest\u001b[0m \u001b[1;33m=\u001b[0m \u001b[0mdriver\u001b[0m\u001b[1;33m.\u001b[0m\u001b[0mexecute_script\u001b[0m\u001b[1;33m(\u001b[0m\u001b[1;34m'return document.body.innerHTML'\u001b[0m\u001b[1;33m)\u001b[0m\u001b[1;33m\u001b[0m\u001b[1;33m\u001b[0m\u001b[0m\n",
      "\u001b[1;32mD:\\anaconda\\lib\\site-packages\\selenium\\webdriver\\remote\\webdriver.py\u001b[0m in \u001b[0;36mfind_element_by_css_selector\u001b[1;34m(self, css_selector)\u001b[0m\n\u001b[0;32m    596\u001b[0m             \u001b[0melement\u001b[0m \u001b[1;33m=\u001b[0m \u001b[0mdriver\u001b[0m\u001b[1;33m.\u001b[0m\u001b[0mfind_element_by_css_selector\u001b[0m\u001b[1;33m(\u001b[0m\u001b[1;34m'#foo'\u001b[0m\u001b[1;33m)\u001b[0m\u001b[1;33m\u001b[0m\u001b[1;33m\u001b[0m\u001b[0m\n\u001b[0;32m    597\u001b[0m         \"\"\"\n\u001b[1;32m--> 598\u001b[1;33m         \u001b[1;32mreturn\u001b[0m \u001b[0mself\u001b[0m\u001b[1;33m.\u001b[0m\u001b[0mfind_element\u001b[0m\u001b[1;33m(\u001b[0m\u001b[0mby\u001b[0m\u001b[1;33m=\u001b[0m\u001b[0mBy\u001b[0m\u001b[1;33m.\u001b[0m\u001b[0mCSS_SELECTOR\u001b[0m\u001b[1;33m,\u001b[0m \u001b[0mvalue\u001b[0m\u001b[1;33m=\u001b[0m\u001b[0mcss_selector\u001b[0m\u001b[1;33m)\u001b[0m\u001b[1;33m\u001b[0m\u001b[1;33m\u001b[0m\u001b[0m\n\u001b[0m\u001b[0;32m    599\u001b[0m \u001b[1;33m\u001b[0m\u001b[0m\n\u001b[0;32m    600\u001b[0m     \u001b[1;32mdef\u001b[0m \u001b[0mfind_elements_by_css_selector\u001b[0m\u001b[1;33m(\u001b[0m\u001b[0mself\u001b[0m\u001b[1;33m,\u001b[0m \u001b[0mcss_selector\u001b[0m\u001b[1;33m)\u001b[0m\u001b[1;33m:\u001b[0m\u001b[1;33m\u001b[0m\u001b[1;33m\u001b[0m\u001b[0m\n",
      "\u001b[1;32mD:\\anaconda\\lib\\site-packages\\selenium\\webdriver\\remote\\webdriver.py\u001b[0m in \u001b[0;36mfind_element\u001b[1;34m(self, by, value)\u001b[0m\n\u001b[0;32m    976\u001b[0m         return self.execute(Command.FIND_ELEMENT, {\n\u001b[0;32m    977\u001b[0m             \u001b[1;34m'using'\u001b[0m\u001b[1;33m:\u001b[0m \u001b[0mby\u001b[0m\u001b[1;33m,\u001b[0m\u001b[1;33m\u001b[0m\u001b[1;33m\u001b[0m\u001b[0m\n\u001b[1;32m--> 978\u001b[1;33m             'value': value})['value']\n\u001b[0m\u001b[0;32m    979\u001b[0m \u001b[1;33m\u001b[0m\u001b[0m\n\u001b[0;32m    980\u001b[0m     \u001b[1;32mdef\u001b[0m \u001b[0mfind_elements\u001b[0m\u001b[1;33m(\u001b[0m\u001b[0mself\u001b[0m\u001b[1;33m,\u001b[0m \u001b[0mby\u001b[0m\u001b[1;33m=\u001b[0m\u001b[0mBy\u001b[0m\u001b[1;33m.\u001b[0m\u001b[0mID\u001b[0m\u001b[1;33m,\u001b[0m \u001b[0mvalue\u001b[0m\u001b[1;33m=\u001b[0m\u001b[1;32mNone\u001b[0m\u001b[1;33m)\u001b[0m\u001b[1;33m:\u001b[0m\u001b[1;33m\u001b[0m\u001b[1;33m\u001b[0m\u001b[0m\n",
      "\u001b[1;32mD:\\anaconda\\lib\\site-packages\\selenium\\webdriver\\remote\\webdriver.py\u001b[0m in \u001b[0;36mexecute\u001b[1;34m(self, driver_command, params)\u001b[0m\n\u001b[0;32m    319\u001b[0m         \u001b[0mresponse\u001b[0m \u001b[1;33m=\u001b[0m \u001b[0mself\u001b[0m\u001b[1;33m.\u001b[0m\u001b[0mcommand_executor\u001b[0m\u001b[1;33m.\u001b[0m\u001b[0mexecute\u001b[0m\u001b[1;33m(\u001b[0m\u001b[0mdriver_command\u001b[0m\u001b[1;33m,\u001b[0m \u001b[0mparams\u001b[0m\u001b[1;33m)\u001b[0m\u001b[1;33m\u001b[0m\u001b[1;33m\u001b[0m\u001b[0m\n\u001b[0;32m    320\u001b[0m         \u001b[1;32mif\u001b[0m \u001b[0mresponse\u001b[0m\u001b[1;33m:\u001b[0m\u001b[1;33m\u001b[0m\u001b[1;33m\u001b[0m\u001b[0m\n\u001b[1;32m--> 321\u001b[1;33m             \u001b[0mself\u001b[0m\u001b[1;33m.\u001b[0m\u001b[0merror_handler\u001b[0m\u001b[1;33m.\u001b[0m\u001b[0mcheck_response\u001b[0m\u001b[1;33m(\u001b[0m\u001b[0mresponse\u001b[0m\u001b[1;33m)\u001b[0m\u001b[1;33m\u001b[0m\u001b[1;33m\u001b[0m\u001b[0m\n\u001b[0m\u001b[0;32m    322\u001b[0m             response['value'] = self._unwrap_value(\n\u001b[0;32m    323\u001b[0m                 response.get('value', None))\n",
      "\u001b[1;32mD:\\anaconda\\lib\\site-packages\\selenium\\webdriver\\remote\\errorhandler.py\u001b[0m in \u001b[0;36mcheck_response\u001b[1;34m(self, response)\u001b[0m\n\u001b[0;32m    240\u001b[0m                 \u001b[0malert_text\u001b[0m \u001b[1;33m=\u001b[0m \u001b[0mvalue\u001b[0m\u001b[1;33m[\u001b[0m\u001b[1;34m'alert'\u001b[0m\u001b[1;33m]\u001b[0m\u001b[1;33m.\u001b[0m\u001b[0mget\u001b[0m\u001b[1;33m(\u001b[0m\u001b[1;34m'text'\u001b[0m\u001b[1;33m)\u001b[0m\u001b[1;33m\u001b[0m\u001b[1;33m\u001b[0m\u001b[0m\n\u001b[0;32m    241\u001b[0m             \u001b[1;32mraise\u001b[0m \u001b[0mexception_class\u001b[0m\u001b[1;33m(\u001b[0m\u001b[0mmessage\u001b[0m\u001b[1;33m,\u001b[0m \u001b[0mscreen\u001b[0m\u001b[1;33m,\u001b[0m \u001b[0mstacktrace\u001b[0m\u001b[1;33m,\u001b[0m \u001b[0malert_text\u001b[0m\u001b[1;33m)\u001b[0m\u001b[1;33m\u001b[0m\u001b[1;33m\u001b[0m\u001b[0m\n\u001b[1;32m--> 242\u001b[1;33m         \u001b[1;32mraise\u001b[0m \u001b[0mexception_class\u001b[0m\u001b[1;33m(\u001b[0m\u001b[0mmessage\u001b[0m\u001b[1;33m,\u001b[0m \u001b[0mscreen\u001b[0m\u001b[1;33m,\u001b[0m \u001b[0mstacktrace\u001b[0m\u001b[1;33m)\u001b[0m\u001b[1;33m\u001b[0m\u001b[1;33m\u001b[0m\u001b[0m\n\u001b[0m\u001b[0;32m    243\u001b[0m \u001b[1;33m\u001b[0m\u001b[0m\n\u001b[0;32m    244\u001b[0m     \u001b[1;32mdef\u001b[0m \u001b[0m_value_or_default\u001b[0m\u001b[1;33m(\u001b[0m\u001b[0mself\u001b[0m\u001b[1;33m,\u001b[0m \u001b[0mobj\u001b[0m\u001b[1;33m,\u001b[0m \u001b[0mkey\u001b[0m\u001b[1;33m,\u001b[0m \u001b[0mdefault\u001b[0m\u001b[1;33m)\u001b[0m\u001b[1;33m:\u001b[0m\u001b[1;33m\u001b[0m\u001b[1;33m\u001b[0m\u001b[0m\n",
      "\u001b[1;31mWebDriverException\u001b[0m: Message: chrome not reachable\n  (Session info: chrome=79.0.3945.130)\n"
     ]
    }
   ],
   "source": [
    "chrome_options = Options()\n",
    "chrome_options.add_argument(\"--headless\") # Opens the browser up in background\n",
    "\n",
    "driver = Chrome(\"chromedriver.exe\")\n",
    "\n",
    "pages = []\n",
    "with Chrome(options=chrome_options) as browser:\n",
    "    driver.get(start_url)\n",
    "    request = driver.execute_script('return document.body.innerHTML')\n",
    "    pages.append(bs(''.join(request), \"html.parser\"))\n",
    "    \n",
    "    time.sleep(2)    \n",
    "    \n",
    "    for i in range(number_pages):\n",
    "        try:\n",
    "            driver.find_element_by_css_selector(close_selector).click()\n",
    "        except:\n",
    "            pass\n",
    "        driver.find_element_by_css_selector(arrow_selector).click()\n",
    "        time.sleep(2)\n",
    "        request = driver.execute_script('return document.body.innerHTML')\n",
    "        pages.append(bs(''.join(request), \"html.parser\"))"
   ]
  },
  {
   "cell_type": "code",
   "execution_count": null,
   "metadata": {},
   "outputs": [],
   "source": [
    "len(pages)"
   ]
  },
  {
   "cell_type": "code",
   "execution_count": 26,
   "metadata": {},
   "outputs": [
    {
     "name": "stdout",
     "output_type": "stream",
     "text": [
      "there\n"
     ]
    }
   ],
   "source": [
    "names = []\n",
    "short_reviews = []\n",
    "full_reviews = []\n",
    "collapsed_reviews = []\n",
    "stars = []\n",
    "\n",
    "if \"www.cotopaxi.com\" in start_url:\n",
    "    print('there')\n",
    "    (names, stars, short_reviews,\n",
    "    full_reviews, collapsed_reviews) = parse_pages_cotopaxi(pages)\n",
    "\n",
    "if \"www.patagonia.com\" in start_url:\n",
    "    print('there')\n",
    "    (names, stars, short_reviews,\n",
    "    full_reviews, collapsed_reviews) = parse_pages_patagonia(pages)\n",
    "    \n",
    "if \"loveyourmelon.com\" in start_url:\n",
    "    print('there')\n",
    "    (names, stars, short_reviews,\n",
    "    full_reviews, collapsed_reviews) = parse_pages_loveyourmelon(pages)\n",
    "    \n",
    "if \"wandererbracelets.com\" in start_url:\n",
    "    print('there')\n",
    "    (names, stars, short_reviews,\n",
    "    full_reviews, collapsed_reviews) = parse_pages_wandererbracelets(pages)"
   ]
  },
  {
   "cell_type": "code",
   "execution_count": 27,
   "metadata": {},
   "outputs": [
    {
     "data": {
      "text/plain": [
       "<span aria-hidden=\"true\" class=\"okeReviews-review-reviewer-profile-name\">Robert J P.</span>"
      ]
     },
     "execution_count": 27,
     "metadata": {},
     "output_type": "execute_result"
    }
   ],
   "source": [
    "names[0]"
   ]
  },
  {
   "cell_type": "code",
   "execution_count": 29,
   "metadata": {},
   "outputs": [
    {
     "data": {
      "text/plain": [
       "5"
      ]
     },
     "execution_count": 29,
     "metadata": {},
     "output_type": "execute_result"
    }
   ],
   "source": [
    "stars[0]"
   ]
  },
  {
   "cell_type": "code",
   "execution_count": 30,
   "metadata": {},
   "outputs": [],
   "source": [
    "i = 0\n",
    "\n",
    "while (i < len(names)):\n",
    "    if names[i].text == '':\n",
    "        del names[i]\n",
    "        del stars[i]\n",
    "        del short_reviews[i]\n",
    "        del full_reviews[i]\n",
    "        del collapsed_reviews[i]\n",
    "        \n",
    "    else:\n",
    "        i += 1"
   ]
  },
  {
   "cell_type": "markdown",
   "metadata": {},
   "source": [
    "# FOR CHECK. Names the number of names must match the number of reviews."
   ]
  },
  {
   "cell_type": "code",
   "execution_count": 31,
   "metadata": {},
   "outputs": [
    {
     "data": {
      "text/plain": [
       "330"
      ]
     },
     "execution_count": 31,
     "metadata": {},
     "output_type": "execute_result"
    }
   ],
   "source": [
    "len(names)"
   ]
  },
  {
   "cell_type": "code",
   "execution_count": 32,
   "metadata": {},
   "outputs": [
    {
     "name": "stdout",
     "output_type": "stream",
     "text": [
      "Robert J P.\n",
      "5\n",
      "\n",
      "Bracelet\n",
      "\n",
      "\n",
      "Well packaged, ready to gift.\n",
      "\n"
     ]
    }
   ],
   "source": [
    "print(names[0].text)\n",
    "print(stars[0])\n",
    "print(short_reviews[0].text)\n",
    "print(full_reviews[0].text)\n",
    "if not collapsed_reviews[0] is None:\n",
    "    print(collapsed_reviews[0].text)"
   ]
  },
  {
   "cell_type": "code",
   "execution_count": 33,
   "metadata": {},
   "outputs": [],
   "source": [
    "for i in range(len(names)):\n",
    "    names[i] = names[i].text\n",
    "    short_reviews[i] = short_reviews[i].text\n",
    "    full_reviews[i] = full_reviews[i].text\n",
    "    if collapsed_reviews[i] is None:\n",
    "        collapsed_reviews[i] = ''\n",
    "    else:\n",
    "        collapsed_reviews[i] = collapsed_reviews[i].text"
   ]
  },
  {
   "cell_type": "markdown",
   "metadata": {},
   "source": [
    "# Create dataframe"
   ]
  },
  {
   "cell_type": "code",
   "execution_count": 34,
   "metadata": {},
   "outputs": [],
   "source": [
    "reviews = pd.DataFrame(zip(names, stars, short_reviews, full_reviews, collapsed_reviews), \n",
    "             columns = ['Name', 'Star', 'Short review', 'Full review', 'Collapsed_reviews'])"
   ]
  },
  {
   "cell_type": "code",
   "execution_count": 35,
   "metadata": {},
   "outputs": [
    {
     "name": "stdout",
     "output_type": "stream",
     "text": [
      "-770\n"
     ]
    }
   ],
   "source": [
    "count = 0\n",
    "\n",
    "for i in range(len(names)):\n",
    "    for j in range(i + 1, len(names)):\n",
    "        if full_reviews[i] == full_reviews[j] and names[i] == names[j] and short_reviews[i] == short_reviews[j]:\n",
    "            count += 1\n",
    "print(len(names) - count)"
   ]
  },
  {
   "cell_type": "code",
   "execution_count": 36,
   "metadata": {
    "scrolled": true
   },
   "outputs": [
    {
     "data": {
      "text/html": [
       "<div>\n",
       "<style scoped>\n",
       "    .dataframe tbody tr th:only-of-type {\n",
       "        vertical-align: middle;\n",
       "    }\n",
       "\n",
       "    .dataframe tbody tr th {\n",
       "        vertical-align: top;\n",
       "    }\n",
       "\n",
       "    .dataframe thead th {\n",
       "        text-align: right;\n",
       "    }\n",
       "</style>\n",
       "<table border=\"1\" class=\"dataframe\">\n",
       "  <thead>\n",
       "    <tr style=\"text-align: right;\">\n",
       "      <th></th>\n",
       "      <th>Name</th>\n",
       "      <th>Star</th>\n",
       "      <th>Short review</th>\n",
       "      <th>Full review</th>\n",
       "      <th>Collapsed_reviews</th>\n",
       "    </tr>\n",
       "  </thead>\n",
       "  <tbody>\n",
       "    <tr>\n",
       "      <td>0</td>\n",
       "      <td>Robert J P.</td>\n",
       "      <td>5</td>\n",
       "      <td>\\nBracelet\\n</td>\n",
       "      <td>\\nWell packaged, ready to gift.\\n</td>\n",
       "      <td></td>\n",
       "    </tr>\n",
       "    <tr>\n",
       "      <td>1</td>\n",
       "      <td>Karen</td>\n",
       "      <td>5</td>\n",
       "      <td>\\nLovely gift\\n</td>\n",
       "      <td>\\nMy boyfriend was so happy about this gift\\n</td>\n",
       "      <td></td>\n",
       "    </tr>\n",
       "    <tr>\n",
       "      <td>2</td>\n",
       "      <td>Lizzie B.</td>\n",
       "      <td>5</td>\n",
       "      <td>\\nAmazing gift\\n</td>\n",
       "      <td>\\nLove this gift! Love that it supports artisa...</td>\n",
       "      <td></td>\n",
       "    </tr>\n",
       "    <tr>\n",
       "      <td>3</td>\n",
       "      <td>Mark A. C.</td>\n",
       "      <td>5</td>\n",
       "      <td>\\nWow!\\n</td>\n",
       "      <td>\\nThe coordinates I used were for the home pla...</td>\n",
       "      <td></td>\n",
       "    </tr>\n",
       "    <tr>\n",
       "      <td>4</td>\n",
       "      <td>Erica A.</td>\n",
       "      <td>5</td>\n",
       "      <td>\\nOrdering process was seamless!\\n</td>\n",
       "      <td>\\nLove the product!\\n</td>\n",
       "      <td></td>\n",
       "    </tr>\n",
       "    <tr>\n",
       "      <td>...</td>\n",
       "      <td>...</td>\n",
       "      <td>...</td>\n",
       "      <td>...</td>\n",
       "      <td>...</td>\n",
       "      <td>...</td>\n",
       "    </tr>\n",
       "    <tr>\n",
       "      <td>325</td>\n",
       "      <td>Jennifer B.</td>\n",
       "      <td>5</td>\n",
       "      <td>\\nCustom coordinates bracelet\\n</td>\n",
       "      <td>\\nI absolutely love my bracelet!!\\n</td>\n",
       "      <td></td>\n",
       "    </tr>\n",
       "    <tr>\n",
       "      <td>326</td>\n",
       "      <td>Federica</td>\n",
       "      <td>5</td>\n",
       "      <td>\\nPerfect!\\n</td>\n",
       "      <td>\\nI bought it for my 1st anniversary for the l...</td>\n",
       "      <td></td>\n",
       "    </tr>\n",
       "    <tr>\n",
       "      <td>327</td>\n",
       "      <td>Malinda S.</td>\n",
       "      <td>5</td>\n",
       "      <td>\\nAmazing\\n</td>\n",
       "      <td>\\nThe bracelet turned out incredible. My husba...</td>\n",
       "      <td></td>\n",
       "    </tr>\n",
       "    <tr>\n",
       "      <td>328</td>\n",
       "      <td>Shawn C.</td>\n",
       "      <td>5</td>\n",
       "      <td>\\nBracelets\\n</td>\n",
       "      <td>\\nGot these made up for my girlfriend and I an...</td>\n",
       "      <td></td>\n",
       "    </tr>\n",
       "    <tr>\n",
       "      <td>329</td>\n",
       "      <td>Gilles</td>\n",
       "      <td>5</td>\n",
       "      <td>\\nBest gift ever!!\\n</td>\n",
       "      <td>\\nBought this for the love of my life and the ...</td>\n",
       "      <td></td>\n",
       "    </tr>\n",
       "  </tbody>\n",
       "</table>\n",
       "<p>330 rows × 5 columns</p>\n",
       "</div>"
      ],
      "text/plain": [
       "            Name  Star                        Short review  \\\n",
       "0    Robert J P.     5                        \\nBracelet\\n   \n",
       "1          Karen     5                     \\nLovely gift\\n   \n",
       "2      Lizzie B.     5                    \\nAmazing gift\\n   \n",
       "3     Mark A. C.     5                            \\nWow!\\n   \n",
       "4       Erica A.     5  \\nOrdering process was seamless!\\n   \n",
       "..           ...   ...                                 ...   \n",
       "325  Jennifer B.     5     \\nCustom coordinates bracelet\\n   \n",
       "326     Federica     5                        \\nPerfect!\\n   \n",
       "327   Malinda S.     5                         \\nAmazing\\n   \n",
       "328     Shawn C.     5                       \\nBracelets\\n   \n",
       "329       Gilles     5                \\nBest gift ever!!\\n   \n",
       "\n",
       "                                           Full review Collapsed_reviews  \n",
       "0                    \\nWell packaged, ready to gift.\\n                    \n",
       "1        \\nMy boyfriend was so happy about this gift\\n                    \n",
       "2    \\nLove this gift! Love that it supports artisa...                    \n",
       "3    \\nThe coordinates I used were for the home pla...                    \n",
       "4                                \\nLove the product!\\n                    \n",
       "..                                                 ...               ...  \n",
       "325                \\nI absolutely love my bracelet!!\\n                    \n",
       "326  \\nI bought it for my 1st anniversary for the l...                    \n",
       "327  \\nThe bracelet turned out incredible. My husba...                    \n",
       "328  \\nGot these made up for my girlfriend and I an...                    \n",
       "329  \\nBought this for the love of my life and the ...                    \n",
       "\n",
       "[330 rows x 5 columns]"
      ]
     },
     "execution_count": 36,
     "metadata": {},
     "output_type": "execute_result"
    }
   ],
   "source": [
    "reviews"
   ]
  },
  {
   "cell_type": "markdown",
   "metadata": {},
   "source": [
    "# Save dataframe"
   ]
  },
  {
   "cell_type": "code",
   "execution_count": 37,
   "metadata": {},
   "outputs": [],
   "source": [
    "reviews.to_csv(\"BLACK SPECKLED BEANIE.csv\")"
   ]
  },
  {
   "cell_type": "code",
   "execution_count": null,
   "metadata": {},
   "outputs": [],
   "source": []
  }
 ],
 "metadata": {
  "kernelspec": {
   "display_name": "Python 3",
   "language": "python",
   "name": "python3"
  },
  "language_info": {
   "codemirror_mode": {
    "name": "ipython",
    "version": 3
   },
   "file_extension": ".py",
   "mimetype": "text/x-python",
   "name": "python",
   "nbconvert_exporter": "python",
   "pygments_lexer": "ipython3",
   "version": "3.6.10"
  }
 },
 "nbformat": 4,
 "nbformat_minor": 2
}
